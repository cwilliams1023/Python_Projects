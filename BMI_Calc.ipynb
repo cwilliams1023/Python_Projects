{
 "cells": [
  {
   "cell_type": "markdown",
   "id": "9e560dbc",
   "metadata": {},
   "source": [
    "## BMI Calculator "
   ]
  },
  {
   "cell_type": "code",
   "execution_count": 12,
   "id": "06fa74b2",
   "metadata": {},
   "outputs": [
    {
     "name": "stdout",
     "output_type": "stream",
     "text": [
      "Enter name: Chelsea\n",
      "Enter weight in lbs: 145\n",
      "Enter height in inchs: 68\n",
      "22.04476643598616\n"
     ]
    }
   ],
   "source": [
    "name = input(\"Enter name: \")\n",
    "\n",
    "weight = int(input(\"Enter weight in lbs: \"))\n",
    "\n",
    "height = int(input(\"Enter height in inchs: \"))\n",
    "\n",
    "BMI = ( weight * 703)/ (height * height)\n",
    "print(BMI)"
   ]
  },
  {
   "cell_type": "code",
   "execution_count": null,
   "id": "51634e4f",
   "metadata": {},
   "outputs": [],
   "source": [
    "Under 18.5\tUnderweight\tMinimal\n",
    "18.5 - 24.9\tNormal Weight\tMinimal\n",
    "25 - 29.9\tOverweight\tIncreased\n",
    "30 - 34.9\tObese\tHigh\n",
    "35 - 39.9\tSeverely Obese\tVery High\n",
    "40 and over\tMorbidly Obese\tExtremely High"
   ]
  },
  {
   "cell_type": "code",
   "execution_count": 13,
   "id": "980271b5",
   "metadata": {},
   "outputs": [
    {
     "name": "stdout",
     "output_type": "stream",
     "text": [
      "Normal Weight/Minimal\n"
     ]
    }
   ],
   "source": [
    "if BMI > 0:\n",
    "    if(BMI<18.5):\n",
    "        print(\"Underweight / Minimal\") \n",
    "    elif(BMI<= 24.9):\n",
    "        print(\"Normal Weight/Minimal\")\n",
    "    elif(BMI<29.9):\n",
    "        print(\"Overweight / Increased\") \n",
    "    elif(BMI<34.9):\n",
    "        print(\"Obese / High\")\n",
    "    elif(BMI<39.9):\n",
    "        print(\"Severely Obese / Very High\") \n",
    "    else:\n",
    "        print(\"enter valid inputs\")"
   ]
  },
  {
   "cell_type": "code",
   "execution_count": null,
   "id": "4607d73c",
   "metadata": {},
   "outputs": [],
   "source": [
    "#BMI = (weight in pounds x 703) / (height in inches x height in inches)"
   ]
  }
 ],
 "metadata": {
  "kernelspec": {
   "display_name": "Python 3 (ipykernel)",
   "language": "python",
   "name": "python3"
  },
  "language_info": {
   "codemirror_mode": {
    "name": "ipython",
    "version": 3
   },
   "file_extension": ".py",
   "mimetype": "text/x-python",
   "name": "python",
   "nbconvert_exporter": "python",
   "pygments_lexer": "ipython3",
   "version": "3.10.5"
  }
 },
 "nbformat": 4,
 "nbformat_minor": 5
}
